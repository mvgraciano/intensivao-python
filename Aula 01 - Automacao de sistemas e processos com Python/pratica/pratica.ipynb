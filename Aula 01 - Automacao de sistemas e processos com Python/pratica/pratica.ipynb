{
 "cells": [
  {
   "cell_type": "markdown",
   "id": "37d3ffe5",
   "metadata": {},
   "source": [
    "## Desafio:\n",
    "\n",
    "Buscar um pokemon de uma base de dados usando o nome ou id informado e escrever as informaçoes em um bloco de notas ou buscar na Pokedex.\n",
    "\n",
    "Local das informações do pokemon: https://pokeapi.co/api/v2/pokemon/idOrName\n",
    "Site pokedex: "
   ]
  },
  {
   "cell_type": "code",
   "execution_count": 38,
   "id": "1f5c8bd2",
   "metadata": {},
   "outputs": [],
   "source": [
    "# Passo 1: Obter nome ou id desejado\n",
    "# Passo 2: Obter informações do pokemon\n",
    "# Passo 3: Abrir destino\n",
    "# Passo 4: Exibir resultado"
   ]
  },
  {
   "cell_type": "code",
   "execution_count": 39,
   "id": "e294faba",
   "metadata": {},
   "outputs": [],
   "source": [
    "import pyautogui as pyag\n",
    "import pyperclip\n",
    "import time\n",
    "import pandas\n",
    "import requests\n",
    "\n",
    "pyag.PAUSE = 1"
   ]
  },
  {
   "cell_type": "markdown",
   "id": "4bc4f467",
   "metadata": {},
   "source": [
    "### Obter nome ou id desejado"
   ]
  },
  {
   "cell_type": "code",
   "execution_count": 40,
   "id": "83aeb24c",
   "metadata": {},
   "outputs": [
    {
     "name": "stdout",
     "output_type": "stream",
     "text": [
      "Enter the name or id of the Pokémon you want to look for\n",
      "8\n"
     ]
    }
   ],
   "source": [
    "import random\n",
    "\n",
    "idOrName = input('Enter the name or id of the Pokémon you want to look for\\n')\n",
    "idOrName = random.randint(0, 904)"
   ]
  },
  {
   "cell_type": "markdown",
   "id": "4e4d20e5",
   "metadata": {},
   "source": [
    "### Abrir fonte e exportar"
   ]
  },
  {
   "cell_type": "code",
   "execution_count": 41,
   "id": "bd938a31",
   "metadata": {},
   "outputs": [],
   "source": [
    "# pyag.hotkey(\"ctrl\", \"t\")\n",
    "# pyperclip.copy(f\"https://pokeapi.co/api/v2/pokemon/{idOrName}\")\n",
    "# pyag.hotkey(\"ctrl\", \"v\")\n",
    "# pyag.press(\"enter\")\n",
    "\n",
    "# pyag.hotkey(\"ctrl\", \"s\")\n",
    "# pyag.press(\"enter\")"
   ]
  },
  {
   "cell_type": "markdown",
   "id": "147c8fd8",
   "metadata": {},
   "source": [
    "### Obter informações do pokémon"
   ]
  },
  {
   "cell_type": "code",
   "execution_count": 42,
   "id": "e52977aa",
   "metadata": {},
   "outputs": [],
   "source": [
    "data = requests.get(f\"https://pokeapi.co/api/v2/pokemon/{idOrName}\").json()\n",
    "pokemon = pandas.DataFrame([data])\n",
    "\n",
    "name = pokemon.name[0]\n",
    "id = pokemon.id[0]\n",
    "mainType = pokemon.types[0][0]['type']['name']\n",
    "searchLink = f\"https://www.google.com.br/search?q={name}\"\n",
    "pokeLink = f\"https://www.pokemon.com/br/pokedex/{name}\""
   ]
  },
  {
   "cell_type": "markdown",
   "id": "57329b2b",
   "metadata": {},
   "source": [
    "### Destino"
   ]
  },
  {
   "cell_type": "code",
   "execution_count": 43,
   "id": "11691802",
   "metadata": {},
   "outputs": [],
   "source": [
    "pyag.press(\"win\")\n",
    "pyag.write(\"notepad\")\n",
    "pyag.press(\"enter\")\n",
    "time.sleep(3)\n",
    "\n",
    "text = f\"\"\"\n",
    "PokeInfos :D\n",
    "\n",
    "Id: {id}\n",
    "Name: {name}\n",
    "Type: {mainType}\n",
    "Search link: {searchLink}\n",
    "Pokedex link: {pokeLink}\n",
    "\n",
    "\"\"\"\n",
    "pyperclip.copy(text)\n",
    "pyag.hotkey(\"ctrl\", \"v\")\n",
    "time.sleep(3)\n",
    "\n",
    "pyag.hotkey(\"alt\", \"tab\")\n",
    "pyag.hotkey(\"ctrl\", \"t\")\n",
    "pyperclip.copy(pokeLink)\n",
    "pyag.hotkey(\"ctrl\", \"v\")\n",
    "pyag.press(\"enter\")\n"
   ]
  },
  {
   "cell_type": "markdown",
   "id": "30bd0743",
   "metadata": {},
   "source": [
    "### Obter posição"
   ]
  },
  {
   "cell_type": "code",
   "execution_count": 44,
   "id": "f98dd494",
   "metadata": {},
   "outputs": [
    {
     "name": "stdout",
     "output_type": "stream",
     "text": [
      "Point(x=673, y=2)\n"
     ]
    }
   ],
   "source": [
    "time.sleep(5)\n",
    "print(pyag.position())"
   ]
  }
 ],
 "metadata": {
  "kernelspec": {
   "display_name": "Python 3 (ipykernel)",
   "language": "python",
   "name": "python3"
  },
  "language_info": {
   "codemirror_mode": {
    "name": "ipython",
    "version": 3
   },
   "file_extension": ".py",
   "mimetype": "text/x-python",
   "name": "python",
   "nbconvert_exporter": "python",
   "pygments_lexer": "ipython3",
   "version": "3.9.13"
  }
 },
 "nbformat": 4,
 "nbformat_minor": 5
}
