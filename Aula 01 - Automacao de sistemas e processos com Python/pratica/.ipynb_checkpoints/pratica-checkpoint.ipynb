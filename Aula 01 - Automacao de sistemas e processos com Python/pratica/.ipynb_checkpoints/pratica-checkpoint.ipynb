{
 "cells": [
  {
   "cell_type": "markdown",
   "id": "63b0c706",
   "metadata": {},
   "source": [
    "## Desafio:\n",
    "\n",
    "Buscar um pokemon de uma base de dados usando o nome ou id informado e escrever as informaçoes em um bloco de notas ou buscar no google.\n",
    "\n",
    "Local das informações do pokemon: https://pokeapi.co/api/v2/pokemon/idOrName"
   ]
  },
  {
   "cell_type": "code",
   "execution_count": 142,
   "id": "c806f39b",
   "metadata": {},
   "outputs": [],
   "source": [
    "# Passo 1: Obter nome ou id desejado\n",
    "# Passo 2: Obter informações do pokemon\n",
    "# Passo 3: Abrir destino\n",
    "# Passo 4: Exibir resultado"
   ]
  },
  {
   "cell_type": "code",
   "execution_count": 143,
   "id": "9dddcd84",
   "metadata": {},
   "outputs": [],
   "source": [
    "import pyautogui as pyag\n",
    "import pyperclip\n",
    "import time\n",
    "import pandas\n",
    "import requests\n",
    "\n",
    "pyag.PAUSE = 1"
   ]
  },
  {
   "cell_type": "markdown",
   "id": "d012fc37",
   "metadata": {},
   "source": [
    "### Obter nome ou id desejado"
   ]
  },
  {
   "cell_type": "code",
   "execution_count": 144,
   "id": "9b2e83a5",
   "metadata": {},
   "outputs": [
    {
     "name": "stdout",
     "output_type": "stream",
     "text": [
      "Enter the name or id of the Pokémon you want to look for\n",
      "bulbasaur\n"
     ]
    }
   ],
   "source": [
    "idOrName = input('Enter the name or id of the Pokémon you want to look for\\n')"
   ]
  },
  {
   "cell_type": "markdown",
   "id": "14397b2e",
   "metadata": {},
   "source": [
    "### Abrir fonte e exportar"
   ]
  },
  {
   "cell_type": "code",
   "execution_count": 145,
   "id": "c40b2346",
   "metadata": {},
   "outputs": [],
   "source": [
    "# pyag.hotkey(\"ctrl\", \"t\")\n",
    "# pyperclip.copy(f\"https://pokeapi.co/api/v2/pokemon/{idOrName}\")\n",
    "# pyag.hotkey(\"ctrl\", \"v\")\n",
    "# pyag.press(\"enter\")\n",
    "\n",
    "# pyag.hotkey(\"ctrl\", \"s\")\n",
    "# pyag.press(\"enter\")"
   ]
  },
  {
   "cell_type": "markdown",
   "id": "d8e91996",
   "metadata": {},
   "source": [
    "### Obter informações do pokémon"
   ]
  },
  {
   "cell_type": "code",
   "execution_count": 146,
   "id": "804e0435",
   "metadata": {},
   "outputs": [],
   "source": [
    "data = requests.get(f\"https://pokeapi.co/api/v2/pokemon/{idOrName}\").json()\n",
    "pokemon = pandas.DataFrame([data])\n",
    "\n",
    "name = pokemon.name[0]\n",
    "id = pokemon.id[0]"
   ]
  },
  {
   "cell_type": "markdown",
   "id": "febbf2f7",
   "metadata": {},
   "source": [
    "### Destino"
   ]
  },
  {
   "cell_type": "code",
   "execution_count": 147,
   "id": "a8b5791d",
   "metadata": {},
   "outputs": [],
   "source": [
    "searchLink = f\"https://www.google.com.br/search?q={name}\"\n",
    "pokeLink = f\"https://www.pokemon.com/br/pokedex/{name}\"\n",
    "\n",
    "pyag.hotkey(\"ctrl\", \"t\")\n",
    "pyperclip.copy(pokeLink)\n",
    "pyag.hotkey(\"ctrl\", \"v\")\n",
    "pyag.press(\"enter\")\n",
    "\n",
    "pyag.press(\"win\")\n",
    "pyag.write(\"notepad\")\n",
    "pyag.press(\"enter\")\n",
    "time.sleep(3)\n",
    "\n",
    "text = f\"\"\"\n",
    "PokeInfos :D\n",
    "\n",
    "Id: {id}\n",
    "Name: {name}\n",
    "Search link: {searchLink}\n",
    "Pokedex link: {pokeLink}\n",
    "\n",
    "\"\"\"\n",
    "pyperclip.copy(text)\n",
    "pyautogui.hotkey(\"ctrl\", \"v\")"
   ]
  },
  {
   "cell_type": "markdown",
   "id": "35381559",
   "metadata": {},
   "source": [
    "### Obter posição"
   ]
  },
  {
   "cell_type": "code",
   "execution_count": 148,
   "id": "834c676a",
   "metadata": {},
   "outputs": [
    {
     "name": "stdout",
     "output_type": "stream",
     "text": [
      "Point(x=1163, y=288)\n"
     ]
    }
   ],
   "source": [
    "time.sleep(5)\n",
    "print(pyag.position())"
   ]
  }
 ],
 "metadata": {
  "kernelspec": {
   "display_name": "Python 3 (ipykernel)",
   "language": "python",
   "name": "python3"
  },
  "language_info": {
   "codemirror_mode": {
    "name": "ipython",
    "version": 3
   },
   "file_extension": ".py",
   "mimetype": "text/x-python",
   "name": "python",
   "nbconvert_exporter": "python",
   "pygments_lexer": "ipython3",
   "version": "3.9.13"
  }
 },
 "nbformat": 4,
 "nbformat_minor": 5
}
